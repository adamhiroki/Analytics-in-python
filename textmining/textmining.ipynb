{
 "cells": [
  {
   "cell_type": "markdown",
   "metadata": {
    "deletable": false,
    "editable": false,
    "nbgrader": {
     "grade": false,
     "locked": true,
     "solution": false
    }
   },
   "source": [
    "## There are some instructions you need to follow:\n",
    "<li> You only need to write your code in the comment area \"Your Code Here\".</li>\n",
    "<li>Do not upload your own file. Please make the necessary changes in the Jupyter notebook file already present in the server.</li>\n",
    "<li>Please note, there are several cells in the Assignment Jupyter notebook that are empty and read only. Do not attempt to remove them or   edit them. They are used in grading your notebook. Doing so might lead to 0 points.</li>"
   ]
  },
  {
   "cell_type": "code",
   "execution_count": 1,
   "metadata": {
    "collapsed": true,
    "deletable": false,
    "editable": false,
    "nbgrader": {
     "grade": false,
     "locked": true,
     "solution": false
    }
   },
   "outputs": [],
   "source": [
    "import nltk\n",
    "import os\n",
    "import _sqlite3\n",
    "from nltk.corpus import PlaintextCorpusReader\n",
    "from nltk import sent_tokenize,word_tokenize \n",
    "from gensim import corpora, models, similarities\n",
    "from gensim.models.ldamodel import LdaModel\n",
    "from gensim.parsing.preprocessing import STOPWORDS\n",
    "from gensim.similarities.docsim import Similarity"
   ]
  },
  {
   "cell_type": "markdown",
   "metadata": {
    "nbgrader": {
     "grade": false,
     "locked": false,
     "solution": false
    }
   },
   "source": [
    "# Question 1"
   ]
  },
  {
   "cell_type": "code",
   "execution_count": 2,
   "metadata": {},
   "outputs": [
    {
     "data": {
      "text/plain": [
       "[('Acrion', 'Philosophers/Acrion.html'),\n",
       " ('Adrastus of Aphrodisias', 'Philosophers/Adrastus of Aphrodisias.html'),\n",
       " ('Aedesia', 'Philosophers/Aedesia.html'),\n",
       " ('Aedesius', 'Philosophers/Aedesius.html'),\n",
       " ('Aeneas of Gaza', 'Philosophers/Aeneas of Gaza.html'),\n",
       " ('Aenesidemus', 'Philosophers/Aenesidemus.html'),\n",
       " ('Aesara', 'Philosophers/Aesara.html'),\n",
       " ('Aeschines of Neapolis', 'Philosophers/Aeschines of Neapolis.html'),\n",
       " ('Aeschines of Sphettus', 'Philosophers/Aeschines of Sphettus.html'),\n",
       " ('Aetius of Antioch', 'Philosophers/Aetius of Antioch.html'),\n",
       " ('Agapius (philosopher)', 'Philosophers/Agapius (philosopher).html'),\n",
       " ('Agathobulus', 'Philosophers/Agathobulus.html'),\n",
       " ('Agathosthenes', 'Philosophers/Agathosthenes.html'),\n",
       " ('Agrippa the Skeptic', 'Philosophers/Agrippa the Skeptic.html'),\n",
       " ('Albinus (philosopher)', 'Philosophers/Albinus (philosopher).html'),\n",
       " ('Alcinous (philosopher)', 'Philosophers/Alcinous (philosopher).html'),\n",
       " ('Alcmaeon of Croton', 'Philosophers/Alcmaeon of Croton.html'),\n",
       " ('Alexamenus of Teos', 'Philosophers/Alexamenus of Teos.html'),\n",
       " ('Alexander of Aegae', 'Philosophers/Alexander of Aegae.html'),\n",
       " ('Alexander of Aphrodisias', 'Philosophers/Alexander of Aphrodisias.html'),\n",
       " ('Alexicrates', 'Philosophers/Alexicrates.html'),\n",
       " ('Alexinus', 'Philosophers/Alexinus.html'),\n",
       " ('Amelius', 'Philosophers/Amelius.html'),\n",
       " ('Ammonius Hermiae', 'Philosophers/Ammonius Hermiae.html'),\n",
       " ('Ammonius of Athens', 'Philosophers/Ammonius of Athens.html'),\n",
       " ('Ammonius Saccas', 'Philosophers/Ammonius Saccas.html'),\n",
       " ('Anaxagoras', 'Philosophers/Anaxagoras.html'),\n",
       " ('Anaxarchus', 'Philosophers/Anaxarchus.html'),\n",
       " ('Anaxilaus', 'Philosophers/Anaxilaus.html'),\n",
       " ('Anaximander', 'Philosophers/Anaximander.html'),\n",
       " ('Anaximenes of Miletus', 'Philosophers/Anaximenes of Miletus.html'),\n",
       " ('Androcydes (Pythagorean)', 'Philosophers/Androcydes (Pythagorean).html'),\n",
       " ('Andronicus of Rhodes', 'Philosophers/Andronicus of Rhodes.html'),\n",
       " ('Anniceris', 'Philosophers/Anniceris.html'),\n",
       " ('Antiochus of Ascalon', 'Philosophers/Antiochus of Ascalon.html'),\n",
       " ('Antipater of Cyrene', 'Philosophers/Antipater of Cyrene.html'),\n",
       " ('Antipater of Tarsus', 'Philosophers/Antipater of Tarsus.html'),\n",
       " ('Antipater of Tyre', 'Philosophers/Antipater of Tyre.html'),\n",
       " ('Antisthenes', 'Philosophers/Antisthenes.html'),\n",
       " ('Antoninus (philosopher)', 'Philosophers/Antoninus (philosopher).html'),\n",
       " ('Apollodorus of Athens', 'Philosophers/Apollodorus of Athens.html'),\n",
       " ('Apollodorus of Seleucia', 'Philosophers/Apollodorus of Seleucia.html'),\n",
       " ('Apollodorus the Epicurean', 'Philosophers/Apollodorus the Epicurean.html'),\n",
       " ('Apollonius Cronus', 'Philosophers/Apollonius Cronus.html'),\n",
       " ('Apollonius of Tyana', 'Philosophers/Apollonius of Tyana.html'),\n",
       " ('Apollonius of Tyre (philosopher)',\n",
       "  'Philosophers/Apollonius of Tyre (philosopher).html'),\n",
       " ('Arcesilaus', 'Philosophers/Arcesilaus.html'),\n",
       " ('Archedemus of Tarsus', 'Philosophers/Archedemus of Tarsus.html'),\n",
       " ('Archelaus (philosopher)', 'Philosophers/Archelaus (philosopher).html'),\n",
       " ('Archytas', 'Philosophers/Archytas.html'),\n",
       " ('Arete of Cyrene', 'Philosophers/Arete of Cyrene.html'),\n",
       " ('Arignote', 'Philosophers/Arignote.html'),\n",
       " ('Aristarchus of Samos', 'Philosophers/Aristarchus of Samos.html'),\n",
       " ('Aristippus', 'Philosophers/Aristippus.html'),\n",
       " ('Aristippus the Younger', 'Philosophers/Aristippus the Younger.html'),\n",
       " ('Aristoclea', 'Philosophers/Aristoclea.html'),\n",
       " ('Aristocles of Messene', 'Philosophers/Aristocles of Messene.html'),\n",
       " ('Aristocreon', 'Philosophers/Aristocreon.html'),\n",
       " ('Aristo of Alexandria', 'Philosophers/Aristo of Alexandria.html'),\n",
       " ('Aristo of Ceos', 'Philosophers/Aristo of Ceos.html'),\n",
       " ('Aristo of Chios', 'Philosophers/Aristo of Chios.html'),\n",
       " ('Aristotle', 'Philosophers/Aristotle.html'),\n",
       " ('Aristotle of Cyrene', 'Philosophers/Aristotle of Cyrene.html'),\n",
       " ('Aristotle of Mytilene', 'Philosophers/Aristotle of Mytilene.html'),\n",
       " ('Aristoxenus', 'Philosophers/Aristoxenus.html'),\n",
       " ('Arius Didymus', 'Philosophers/Arius Didymus.html'),\n",
       " ('Asclepiades of Phlius', 'Philosophers/Asclepiades of Phlius.html'),\n",
       " ('Asclepiades the Cynic', 'Philosophers/Asclepiades the Cynic.html'),\n",
       " ('Asclepigenia', 'Philosophers/Asclepigenia.html'),\n",
       " ('Asclepiodotus (philosopher)',\n",
       "  'Philosophers/Asclepiodotus (philosopher).html'),\n",
       " ('Asclepiodotus of Alexandria',\n",
       "  'Philosophers/Asclepiodotus of Alexandria.html'),\n",
       " ('Aspasius', 'Philosophers/Aspasius.html'),\n",
       " ('Athenaeus of Seleucia', 'Philosophers/Athenaeus of Seleucia.html'),\n",
       " ('Athenodoros Cananites', 'Philosophers/Athenodoros Cananites.html'),\n",
       " ('Athenodoros Cordylion', 'Philosophers/Athenodoros Cordylion.html'),\n",
       " ('Athenodorus of Soli', 'Philosophers/Athenodorus of Soli.html'),\n",
       " ('Attalus (Stoic)', 'Philosophers/Attalus (Stoic).html'),\n",
       " ('Atticus (philosopher)', 'Philosophers/Atticus (philosopher).html'),\n",
       " ('Basilides (Stoic)', 'Philosophers/Basilides (Stoic).html'),\n",
       " ('Tisias', 'Philosophers/Tisias.html'),\n",
       " ('Xenarchus of Seleucia', 'Philosophers/Xenarchus of Seleucia.html'),\n",
       " ('Xeniades', 'Philosophers/Xeniades.html'),\n",
       " ('Xenocrates', 'Philosophers/Xenocrates.html'),\n",
       " ('Xenophanes', 'Philosophers/Xenophanes.html'),\n",
       " ('Xenophilus', 'Philosophers/Xenophilus.html'),\n",
       " ('Xenophon', 'Philosophers/Xenophon.html'),\n",
       " ('Zenobius', 'Philosophers/Zenobius.html'),\n",
       " ('Zenodotus (philosopher)', 'Philosophers/Zenodotus (philosopher).html'),\n",
       " ('Zeno of Citium', 'Philosophers/Zeno of Citium.html'),\n",
       " ('Zeno of Elea', 'Philosophers/Zeno of Elea.html'),\n",
       " ('Zeno of Sidon', 'Philosophers/Zeno of Sidon.html'),\n",
       " ('Zeno of Tarsus', 'Philosophers/Zeno of Tarsus.html')]"
      ]
     },
     "execution_count": 2,
     "metadata": {},
     "output_type": "execute_result"
    }
   ],
   "source": [
    "\"\"\"\n",
    "Question 1\n",
    "\n",
    "Write a function that takes the file name of the Wikipedia page containing all Greek ancient\n",
    "philosophers (saved as \"Index.html\" in your workspace) and returns a list tuples containing \n",
    "the name of the philosopher and the path to its individual article file.\n",
    "\n",
    "Example of use: get_philosophers(\"Index.html\")\n",
    "\n",
    "The output should be a list of tuples:\n",
    "\n",
    "[('Acrion', 'Philosophers/Acrion.html'),\n",
    " ('Adrastus of Aphrodisias', 'Philosophers/Adrastus of Aphrodisias.html'),\n",
    " ('Aedesia', 'Philosophers/Aedesia.html'),\n",
    " ('Aedesius', 'Philosophers/Aedesius.html'),\n",
    " ('Aeneas of Gaza', 'Philosophers/Aeneas of Gaza.html'),\n",
    " ('Aenesidemus', 'Philosophers/Aenesidemus.html'),\n",
    " ...]\n",
    " \n",
    "  \n",
    "NOTE: For processing speed purposes, the table in \"Index.html\" has been shortened compared\n",
    "to the one online on wikipedia.org. Do not worry if you do not find some philosophers in \n",
    "your results, this is made on purpose. \n",
    "\n",
    "\"\"\"\n",
    "\n",
    "def get_philosophers(filename):\n",
    "    \n",
    "    import codecs\n",
    "    from bs4 import BeautifulSoup\n",
    "    f = codecs.open(filename, 'r', 'utf-8')\n",
    "    soup = BeautifulSoup(f.read(),'lxml')\n",
    "    \n",
    "    result = []\n",
    "    \n",
    "    sub_table = soup.find(\"table\", class_=\"wikitable sortable\")\n",
    "    for tr in sub_table.find_all(\"tr\"):\n",
    "        if tr.td:\n",
    "            text = tr.td.a.get(\"title\")\n",
    "            path = 'Philosophers/' + text + '.html'\n",
    "            result.append((text,path))\n",
    "        \n",
    "    return result\n",
    "# Once done, try this:\n",
    "filenames = get_philosophers(\"Index.html\")\n",
    "filenames"
   ]
  },
  {
   "cell_type": "markdown",
   "metadata": {
    "deletable": false,
    "editable": false,
    "nbgrader": {
     "grade": false,
     "locked": true,
     "solution": false
    }
   },
   "source": [
    "# Question 2"
   ]
  },
  {
   "cell_type": "code",
   "execution_count": 67,
   "metadata": {},
   "outputs": [
    {
     "data": {
      "text/plain": [
       "'Acrion was a Locrian and a Pythagorean philosopher.[1]  He is mentioned by Valerius Maximus[2] under the name of Arion. According to William Smith, Arion is a false reading, instead of Acrion.[3]\\n'"
      ]
     },
     "execution_count": 67,
     "metadata": {},
     "output_type": "execute_result"
    }
   ],
   "source": [
    "\"\"\"\n",
    "Question 2\n",
    "\n",
    "\n",
    "Write a function that scrapes the text on a philosophers’s page and returns it as a text \n",
    "string. The input is the name of the file that contains the philosoph's page.\n",
    "\n",
    "Example of use: get_text('Philosophers/Acrion.html')\n",
    "should output the text of the page.\n",
    "'Acrion was a Locrian and a Pythagorean philosopher...'\n",
    "\"\"\"\n",
    "\n",
    "def get_text(file):\n",
    "    import codecs\n",
    "    from bs4 import BeautifulSoup\n",
    "    f = codecs.open(file, 'r', 'utf-8')\n",
    "    soup = BeautifulSoup(f.read(),'lxml')\n",
    "    \n",
    "    #result = soup.find('p').text.replace('\\n',\"\")\n",
    "    \n",
    "    all_text = \"\"\n",
    "    for tag in soup.find_all('p'):\n",
    "        all_text += tag.get_text() \n",
    "    \n",
    "    return all_text\n",
    "\n",
    "\n",
    "# Once done, try this:\n",
    "get_text(\"Philosophers/Acrion.html\")"
   ]
  },
  {
   "cell_type": "markdown",
   "metadata": {},
   "source": [
    "# Question 3"
   ]
  },
  {
   "cell_type": "code",
   "execution_count": 60,
   "metadata": {},
   "outputs": [
    {
     "data": {
      "text/plain": [
       "[('Acrion', 'Xenophilus'),\n",
       " ('Adrastus of Aphrodisias', 'Aspasius'),\n",
       " ('Aedesia', 'Arete of Cyrene'),\n",
       " ('Aedesius', 'Amelius'),\n",
       " ('Aeneas of Gaza', 'Agrippa the Skeptic'),\n",
       " ('Aenesidemus', 'Ammonius Saccas'),\n",
       " ('Aesara', 'Apollonius Cronus'),\n",
       " ('Aeschines of Neapolis', 'Aedesius'),\n",
       " ('Aeschines of Sphettus', 'Antipater of Cyrene'),\n",
       " ('Aetius of Antioch', 'Apollonius of Tyre (philosopher)'),\n",
       " ('Agapius (philosopher)', 'Zenodotus (philosopher)'),\n",
       " ('Agathobulus', 'Arete of Cyrene'),\n",
       " ('Agathosthenes', 'Anaxarchus'),\n",
       " ('Agrippa the Skeptic', 'Arete of Cyrene'),\n",
       " ('Albinus (philosopher)', 'Alexamenus of Teos'),\n",
       " ('Alcinous (philosopher)', 'Aristoclea'),\n",
       " ('Alcmaeon of Croton', 'Apollodorus the Epicurean'),\n",
       " ('Alexamenus of Teos', 'Aristocles of Messene'),\n",
       " ('Alexander of Aegae', 'Athenaeus of Seleucia'),\n",
       " ('Alexander of Aphrodisias', 'Aristotle of Mytilene'),\n",
       " ('Alexicrates', 'Arete of Cyrene'),\n",
       " ('Alexinus', 'Antipater of Cyrene'),\n",
       " ('Amelius', 'Aedesius'),\n",
       " ('Ammonius Hermiae', 'Anaxarchus'),\n",
       " ('Ammonius of Athens', 'Asclepiodotus of Alexandria'),\n",
       " ('Ammonius Saccas', 'Aenesidemus'),\n",
       " ('Anaxagoras', 'Zenobius'),\n",
       " ('Anaxarchus', 'Aristotle of Cyrene'),\n",
       " ('Anaxilaus', 'Aristoclea'),\n",
       " ('Anaximander', 'Anaxarchus'),\n",
       " ('Anaximenes of Miletus', 'Anaximander'),\n",
       " ('Androcydes (Pythagorean)', 'Alcinous (philosopher)'),\n",
       " ('Andronicus of Rhodes', 'Apollonius of Tyana'),\n",
       " ('Anniceris', 'Asclepiades of Phlius'),\n",
       " ('Antiochus of Ascalon', 'Arcesilaus'),\n",
       " ('Antipater of Cyrene', 'Aeschines of Sphettus'),\n",
       " ('Antipater of Tarsus', 'Apollodorus of Seleucia'),\n",
       " ('Antipater of Tyre', 'Aristo of Ceos'),\n",
       " ('Antisthenes', 'Ammonius Hermiae'),\n",
       " ('Antoninus (philosopher)', 'Agapius (philosopher)'),\n",
       " ('Apollodorus of Athens', 'Aristoxenus'),\n",
       " ('Apollodorus of Seleucia', 'Antipater of Tarsus'),\n",
       " ('Apollodorus the Epicurean', 'Agrippa the Skeptic'),\n",
       " ('Apollonius Cronus', 'Aesara'),\n",
       " ('Apollonius of Tyana', 'Aristotle of Cyrene'),\n",
       " ('Apollonius of Tyre (philosopher)', 'Zeno of Tarsus'),\n",
       " ('Arcesilaus', 'Antiochus of Ascalon'),\n",
       " ('Archedemus of Tarsus', 'Aristo of Ceos'),\n",
       " ('Archelaus (philosopher)', 'Anaxagoras'),\n",
       " ('Archytas', 'Zenobius'),\n",
       " ('Arete of Cyrene', 'Apollonius Cronus'),\n",
       " ('Arignote', 'Athenodoros Cordylion'),\n",
       " ('Aristarchus of Samos', 'Athenodoros Cordylion'),\n",
       " ('Aristippus', 'Antipater of Cyrene'),\n",
       " ('Aristippus the Younger', 'Aristippus'),\n",
       " ('Aristoclea', 'Alcinous (philosopher)'),\n",
       " ('Aristocles of Messene', 'Agrippa the Skeptic'),\n",
       " ('Aristocreon', 'Attalus (Stoic)'),\n",
       " ('Aristo of Alexandria', 'Aristotle of Mytilene'),\n",
       " ('Aristo of Ceos', 'Archedemus of Tarsus'),\n",
       " ('Aristo of Chios', 'Zeno of Tarsus'),\n",
       " ('Aristotle', 'Adrastus of Aphrodisias'),\n",
       " ('Aristotle of Cyrene', 'Anaxarchus'),\n",
       " ('Aristotle of Mytilene', 'Aristo of Alexandria'),\n",
       " ('Aristoxenus', 'Apollodorus of Athens'),\n",
       " ('Arius Didymus', 'Basilides (Stoic)'),\n",
       " ('Asclepiades of Phlius', 'Asclepiades the Cynic'),\n",
       " ('Asclepiades the Cynic', 'Asclepiades of Phlius'),\n",
       " ('Asclepigenia', 'Aedesius'),\n",
       " ('Asclepiodotus (philosopher)', 'Ammonius Saccas'),\n",
       " ('Asclepiodotus of Alexandria', 'Amelius'),\n",
       " ('Aspasius', 'Alexander of Aphrodisias'),\n",
       " ('Athenaeus of Seleucia', 'Alexander of Aegae'),\n",
       " ('Athenodoros Cananites', 'Apollonius of Tyre (philosopher)'),\n",
       " ('Athenodoros Cordylion', 'Antipater of Tarsus'),\n",
       " ('Athenodorus of Soli', 'Antipater of Tyre'),\n",
       " ('Attalus (Stoic)', 'Aristocreon'),\n",
       " ('Atticus (philosopher)', 'Agathosthenes'),\n",
       " ('Basilides (Stoic)', 'Antipater of Tyre'),\n",
       " ('Tisias', 'Aristippus the Younger'),\n",
       " ('Xenarchus of Seleucia', 'Aristocles of Messene'),\n",
       " ('Xeniades', 'Zenobius'),\n",
       " ('Xenocrates', 'Xenophanes'),\n",
       " ('Xenophanes', 'Aristoxenus'),\n",
       " ('Xenophilus', 'Acrion'),\n",
       " ('Xenophon', 'Atticus (philosopher)'),\n",
       " ('Zenobius', 'Ammonius Hermiae'),\n",
       " ('Zenodotus (philosopher)', 'Agapius (philosopher)'),\n",
       " ('Zeno of Citium', 'Aristo of Chios'),\n",
       " ('Zeno of Elea', 'Apollonius of Tyana'),\n",
       " ('Zeno of Sidon', 'Archedemus of Tarsus'),\n",
       " ('Zeno of Tarsus', 'Apollonius of Tyre (philosopher)')]"
      ]
     },
     "execution_count": 60,
     "metadata": {},
     "output_type": "execute_result"
    }
   ],
   "source": [
    "\"\"\"\n",
    "Question 3\n",
    "\n",
    "Use the files under \"Philosophers\" folder to construct an LSI model.\n",
    "Then, use the LSI model to find the most similar philosopher for each of the philosophers\n",
    "found in Question 1, based on the content of their Wikipedia articles. You should not go\n",
    "online to scrape the data; everything you need is in your Jupyter notebook working directory.\n",
    "\n",
    "The function should have as input the list of tuples created in Question 1.\n",
    "\n",
    "The output format should be a list of tuples too. Each tuple should contain a philosopher's name\n",
    "and its most similar other philosopher. Please note both names can't be the same.\n",
    "\n",
    "The output should look like that:\n",
    "\n",
    "[('Acrion', 'Arignote'),\n",
    " ('Adrastus of Aphrodisias', 'Lycophron (Sophist)'),\n",
    " ('Aedesia', 'Heliodorus of Alexandria'),\n",
    " ('Aedesius', 'Chrysanthius'),\n",
    " ('Aeneas of Gaza', 'Archytas'),\n",
    " ...]\n",
    "\n",
    "\n",
    "\"\"\"\n",
    "\n",
    "def run(filenames):\n",
    "    import codecs\n",
    "    from bs4 import BeautifulSoup\n",
    "    \n",
    "    result = []\n",
    "\n",
    "    philosophers_texts = [[word for word in get_text(file[1]).lower().split()\n",
    "                        if word not in STOPWORDS and word.isalnum()]\n",
    "                         for file in filenames]\n",
    "    dictionary = corpora.Dictionary(philosophers_texts)\n",
    "    corpus = [dictionary.doc2bow(text) for text in philosophers_texts]\n",
    "    \n",
    "    lsi = models.LsiModel(corpus,id2word=dictionary, num_topics = 10)\n",
    "    \n",
    "    for file in filenames:\n",
    "        comparative = get_text(file[1])\n",
    "        vec_bow = dictionary.doc2bow(comparative.lower().split())\n",
    "        vec_lsi = lsi[vec_bow]\n",
    "        index = similarities.MatrixSimilarity(lsi[corpus])\n",
    "        sims = index[vec_lsi]\n",
    "        sims = sorted(enumerate(sims), key=lambda item: -item[1])\n",
    "        value = sims[1][0]\n",
    "        result.append((file[0],filenames[value][0]))\n",
    "        \n",
    "        \n",
    "    return result\n",
    "\n",
    "# Once done, try this:\n",
    "run(filenames)"
   ]
  },
  {
   "cell_type": "code",
   "execution_count": 61,
   "metadata": {
    "collapsed": true,
    "deletable": false,
    "editable": false,
    "nbgrader": {
     "grade": true,
     "grade_id": "Scraping filenames",
     "locked": true,
     "points": "20",
     "solution": false
    }
   },
   "outputs": [],
   "source": [
    "###\n",
    "### AUTOGRADER TEST - DO NOT REMOVE\n",
    "###\n"
   ]
  },
  {
   "cell_type": "code",
   "execution_count": null,
   "metadata": {
    "collapsed": true,
    "deletable": false,
    "editable": false,
    "nbgrader": {
     "grade": true,
     "grade_id": "Text of page",
     "locked": true,
     "points": "20",
     "solution": false
    }
   },
   "outputs": [],
   "source": [
    "###\n",
    "### AUTOGRADER TEST - DO NOT REMOVE\n",
    "###\n"
   ]
  },
  {
   "cell_type": "code",
   "execution_count": null,
   "metadata": {
    "collapsed": true,
    "deletable": false,
    "editable": false,
    "nbgrader": {
     "grade": true,
     "grade_id": "Run LSI",
     "locked": true,
     "points": "60",
     "solution": false
    }
   },
   "outputs": [],
   "source": [
    "###\n",
    "### AUTOGRADER TEST - DO NOT REMOVE\n",
    "###\n"
   ]
  },
  {
   "cell_type": "code",
   "execution_count": null,
   "metadata": {
    "collapsed": true
   },
   "outputs": [],
   "source": []
  }
 ],
 "metadata": {
  "kernelspec": {
   "display_name": "Python 3.5",
   "language": "python",
   "name": "python35"
  },
  "language_info": {
   "codemirror_mode": {
    "name": "ipython",
    "version": 3
   },
   "file_extension": ".py",
   "mimetype": "text/x-python",
   "name": "python",
   "nbconvert_exporter": "python",
   "pygments_lexer": "ipython3",
   "version": "3.5.2"
  }
 },
 "nbformat": 4,
 "nbformat_minor": 2
}
