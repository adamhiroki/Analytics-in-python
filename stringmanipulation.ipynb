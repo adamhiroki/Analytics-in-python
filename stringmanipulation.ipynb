{
 "cells": [
  {
   "cell_type": "markdown",
   "metadata": {
    "deletable": false,
    "editable": false,
    "nbgrader": {
     "grade": false,
     "locked": true,
     "solution": false
    }
   },
   "source": [
    "## There are some instructions you need to follow:\n",
    "<li> You only need to write your code in the comment area \"Your Code Here\".</li>\n",
    "<li>Do not upload your own file. Please make the necessary changes in the Jupyter notebook file already present in the server.</li>\n",
    "<li>Please note, there are several cells in the Assignment Jupyter notebook that are empty and read only. Do not attempt to remove them or   edit them. They are used in grading your notebook. Doing so might lead to 0 points.</li>\n",
    "<li>Do not use python input function (e.g. word = input(\"Enter a word: \") ). Use parameters in your self-defined function otherwise it code will not pass the grader</li>"
   ]
  },
  {
   "cell_type": "code",
   "execution_count": 29,
   "metadata": {
    "nbgrader": {
     "grade": false,
     "locked": false,
     "solution": false
    }
   },
   "outputs": [],
   "source": [
    "\"\"\"\n",
    "Modify the following reverse function so that where the first occurrence of \n",
    "reverse_word in sentence is replaced by the same word but spelled backwards.\n",
    "\n",
    "Tests:\n",
    "\n",
    "reverse(\"Python improves my mood very much\", \"mood\") should return \"Python improves my doom very much\"\n",
    "\n",
    "reverse(\"We are reaching the next level\", \"level\") should return \"We are reaching the next level\"\n",
    "\"\"\"\n",
    " \n",
    "def reverse(sentence, reverse_word):\n",
    "    y = sentence[sentence.find(reverse_word):sentence.find(reverse_word)+len(reverse_word)]\n",
    "    y = y[::-1]\n",
    "    return sentence[0:sentence.find(reverse_word)] + y + sentence[sentence.find(reverse_word) + len(y):len(sentence)]\n",
    "    \n",
    "    "
   ]
  },
  {
   "cell_type": "code",
   "execution_count": 30,
   "metadata": {},
   "outputs": [
    {
     "data": {
      "text/plain": [
       "'The dne is near'"
      ]
     },
     "execution_count": 30,
     "metadata": {},
     "output_type": "execute_result"
    }
   ],
   "source": [
    "reverse(\"The end is near\", \"end\")"
   ]
  },
  {
   "cell_type": "code",
   "execution_count": null,
   "metadata": {
    "collapsed": true,
    "deletable": false,
    "editable": false,
    "nbgrader": {
     "grade": true,
     "grade_id": "Test 2",
     "locked": true,
     "points": "5",
     "solution": false
    }
   },
   "outputs": [],
   "source": [
    "###\n",
    "### AUTOGRADER TEST - DO NOT REMOVE\n",
    "###\n"
   ]
  },
 ,
 "metadata": {
  "kernelspec": {
   "display_name": "Python 3 [3.6]",
   "language": "python",
   "name": "python3"
  },
  "language_info": {
   "codemirror_mode": {
    "name": "ipython",
    "version": 3
   },
   "file_extension": ".py",
   "mimetype": "text/x-python",
   "name": "python",
   "nbconvert_exporter": "python",
   "pygments_lexer": "ipython3",
   "version": "3.6.4"
  }
 },
 "nbformat": 4,
 "nbformat_minor": 2
}
