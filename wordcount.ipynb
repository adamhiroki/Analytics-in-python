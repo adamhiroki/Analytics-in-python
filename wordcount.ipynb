{
 "cells": [
  {
   "cell_type": "markdown",
   "metadata": {
    "deletable": false,
    "editable": false,
    "nbgrader": {
     "grade": false,
     "locked": true,
     "solution": false
    }
   },
   "source": [
    "## There are some instructions you need to follow:\n",
    "\n",
    "<li> You only need to write your code in the comment area \"Your Code Here\".\n",
    "<li> Do not upload your own file. Please make the necessary changes in the Jupyter notebook file already present in the server.\n",
    "<li> Please note, there are several cells in the Assignment Jupyter notebook that are empty and read only. Do not attempt to remove them or edit them. They are used in grading your notebook. Doing so might lead to 0 points"
   ]
  },
  {
   "cell_type": "code",
   "execution_count": 4,
   "metadata": {
    "deletable": false,
    "editable": false,
    "nbgrader": {
     "grade": false,
     "locked": true,
     "solution": false
    }
   },
   "outputs": [
    {
     "data": {
      "text/plain": [
       "'\\nModify the following word_distribution function so that\\nit returns a dictionary with the count of each word in \\nthe input string.\\n\\nDon\\'t forget to put the words in lowercase.\\n\\nIf there\\'s a punctuation sign at the end of a word, you should remove it.\\n\\nTests:\\n\\nword_distribution(\"Why are all these people here?\")\\nshould return {\\'why\\': 1, \\'are\\':1, all\\': 1, \\'these\\': 1, \\'people\\':1, \\'here\\':1 }\\n\\n\\nword_distribution(\"Monica is coming to the city tomorrow!\")\\nshould return {\"monica\":1, \"is\":1, \"coming\":1,\"to\":1,\"the\":1,\"city\":1, \"tomorrow\":1}\\n'"
      ]
     },
     "execution_count": 4,
     "metadata": {},
     "output_type": "execute_result"
    }
   ],
   "source": [
    "\"\"\"\n",
    "Modify the following word_distribution function so that\n",
    "it returns a dictionary with the count of each word in \n",
    "the input string.\n",
    "\n",
    "Don't forget to put the words in lowercase.\n",
    "\n",
    "If there's a punctuation sign at the end of a word, you should remove it.\n",
    "You should remove only one punctuation sign if there are multiple signs.\n",
    "\n",
    "Tests:\n",
    "\n",
    "word_distribution(\"Hello. How are you? Please say hello if you don’t love me!\") \n",
    "should return {‘hello’: 2, ‘how’:1, ‘are’:1, ‘you’:2, ’please’:1, “don’t”: 1, 'say':1, 'if':1, 'love':1,'me':1}\n",
    "\n",
    "word_distribution(\"That's when I saw Jane (John's sister)!\")\n",
    "should return {\"that's\":1, \"when\":1,\"i\":1,\"saw\":1,\"jane\":1, \"(john's\":1, \"sister)\":1}\n",
    "\"\"\""
   ]
  },
  {
   "cell_type": "code",
   "execution_count": 22,
   "metadata": {},
   "outputs": [
    {
     "name": "stdout",
     "output_type": "stream",
     "text": [
      "{'all': 1, 'people': 1, 'why': 1, 'here': 1, 'these': 1, 'are': 1}\n"
     ]
    }
   ],
   "source": [
    "def word_distribution(s):\n",
    "    s = s.lower()\n",
    "    s = s.split()\n",
    "    result = {}\n",
    "    \n",
    "    for word in s:\n",
    "        word = remove_punc(word)\n",
    "        if word in result:\n",
    "            result[word] += 1;\n",
    "        else:\n",
    "            result[word] = 1;\n",
    "            \n",
    "    return result\n",
    "            \n",
    "            \n",
    "            \n",
    "def remove_punc(word):\n",
    "    if word[-1].isalpha() == False:\n",
    "        word = word[:-1]\n",
    "    return word"
   ]
  },
  {
   "cell_type": "code",
   "execution_count": 2,
   "metadata": {
    "collapsed": true
   },
   "outputs": [],
   "source": [
    "#testing\n",
    "#word_distribution(\"Monica is coming to the city tomorrow!\")\n",
    "#word_distribution(\"That's when I saw Jane (John's sister)!\")\n",
    "#word_distribution(\"Why are all these people here?\")"
   ]
  },
  {
   "cell_type": "code",
   "execution_count": 3,
   "metadata": {
    "deletable": false,
    "editable": false,
    "nbgrader": {
     "grade": true,
     "grade_id": "Word Distribution",
     "locked": true,
     "points": "10",
     "solution": false
    }
   },
   "outputs": [
    {
     "name": "stdout",
     "output_type": "stream",
     "text": [
      "Word distribution. OK. 10/10 points\n"
     ]
    }
   ],
   "source": [
    "###\n",
    "### AUTOGRADER TEST - DO NOT REMOVE\n",
    "###\n"
   ]
  },
  {
   "cell_type": "code",
   "execution_count": 4,
   "metadata": {
    "deletable": false,
    "editable": false,
    "nbgrader": {
     "grade": true,
     "grade_id": "Punctuation",
     "locked": true,
     "points": "10",
     "solution": false
    },
    "scrolled": true
   },
   "outputs": [
    {
     "name": "stdout",
     "output_type": "stream",
     "text": [
      "Calculating punctuations. OK. 10/10 points\n"
     ]
    }
   ],
   "source": [
    "###\n",
    "### AUTOGRADER TEST - DO NOT REMOVE\n",
    "###\n"
   ]
  },
  {
   "cell_type": "code",
   "execution_count": null,
   "metadata": {
    "collapsed": true
   },
   "outputs": [],
   "source": []
  }
 ],
 "metadata": {
  "kernelspec": {
   "display_name": "Python 3.5",
   "language": "python",
   "name": "python35"
  },
  "language_info": {
   "codemirror_mode": {
    "name": "ipython",
    "version": 3
   },
   "file_extension": ".py",
   "mimetype": "text/x-python",
   "name": "python",
   "nbconvert_exporter": "python",
   "pygments_lexer": "ipython3",
   "version": "3.5.2"
  }
 },
 "nbformat": 4,
 "nbformat_minor": 2
}
